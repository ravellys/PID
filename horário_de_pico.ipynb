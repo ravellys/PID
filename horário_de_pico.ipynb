{
  "nbformat": 4,
  "nbformat_minor": 0,
  "metadata": {
    "colab": {
      "name": "horário de pico.ipynb",
      "provenance": [],
      "collapsed_sections": [],
      "include_colab_link": true
    },
    "kernelspec": {
      "name": "python3",
      "display_name": "Python 3"
    }
  },
  "cells": [
    {
      "cell_type": "markdown",
      "metadata": {
        "id": "view-in-github",
        "colab_type": "text"
      },
      "source": [
        "<a href=\"https://colab.research.google.com/github/ravellys/PID/blob/master/hor%C3%A1rio_de_pico.ipynb\" target=\"_parent\"><img src=\"https://colab.research.google.com/assets/colab-badge.svg\" alt=\"Open In Colab\"/></a>"
      ]
    },
    {
      "cell_type": "code",
      "metadata": {
        "id": "7pCy4Ywamis_",
        "colab_type": "code",
        "colab": {
          "base_uri": "https://localhost:8080/",
          "height": 55
        },
        "outputId": "74729e5f-182e-428b-fa13-1e1e4127bdf7"
      },
      "source": [
        "from google.colab import drive\n",
        "drive.mount('/content/drive')"
      ],
      "execution_count": 11,
      "outputs": [
        {
          "output_type": "stream",
          "text": [
            "Drive already mounted at /content/drive; to attempt to forcibly remount, call drive.mount(\"/content/drive\", force_remount=True).\n"
          ],
          "name": "stdout"
        }
      ]
    },
    {
      "cell_type": "code",
      "metadata": {
        "id": "t2AJ_pirmOiH",
        "colab_type": "code",
        "colab": {}
      },
      "source": [
        "import pandas as pd\n",
        "import numpy as np\n",
        "import matplotlib.pyplot as plt\n",
        "import datetime"
      ],
      "execution_count": 57,
      "outputs": []
    },
    {
      "cell_type": "code",
      "metadata": {
        "id": "X5RfJ-_5mfo0",
        "colab_type": "code",
        "colab": {}
      },
      "source": [
        "name = 'drive/My Drive/Aline/data/Relatório de Vendas - 2020-08-21 até 2020-08-25.csv'\n",
        "df = pd.read_csv(name, header = 0, sep=\";\")"
      ],
      "execution_count": 58,
      "outputs": []
    },
    {
      "cell_type": "code",
      "metadata": {
        "id": "QddYIK_KZn95",
        "colab_type": "code",
        "colab": {
          "base_uri": "https://localhost:8080/",
          "height": 217
        },
        "outputId": "ddf32094-a890-4b9a-e2bb-a2f81ab09303"
      },
      "source": [
        "df.info()"
      ],
      "execution_count": 59,
      "outputs": [
        {
          "output_type": "stream",
          "text": [
            "<class 'pandas.core.frame.DataFrame'>\n",
            "RangeIndex: 1525 entries, 0 to 1524\n",
            "Data columns (total 4 columns):\n",
            " #   Column         Non-Null Count  Dtype \n",
            "---  ------         --------------  ----- \n",
            " 0   Loja           1525 non-null   int64 \n",
            " 1   PDV            1525 non-null   int64 \n",
            " 2   Data da venda  1525 non-null   object\n",
            " 3   Hora da venda  1525 non-null   object\n",
            "dtypes: int64(2), object(2)\n",
            "memory usage: 47.8+ KB\n"
          ],
          "name": "stdout"
        }
      ]
    },
    {
      "cell_type": "code",
      "metadata": {
        "id": "Lr5YugNDm0t3",
        "colab_type": "code",
        "colab": {
          "base_uri": "https://localhost:8080/",
          "height": 35
        },
        "outputId": "c839ef36-71ba-47d6-8e93-f73d662ebcbe"
      },
      "source": [
        "df.shape"
      ],
      "execution_count": 60,
      "outputs": [
        {
          "output_type": "execute_result",
          "data": {
            "text/plain": [
              "(1525, 4)"
            ]
          },
          "metadata": {
            "tags": []
          },
          "execution_count": 60
        }
      ]
    },
    {
      "cell_type": "code",
      "metadata": {
        "id": "gppacqGHm2Mp",
        "colab_type": "code",
        "colab": {}
      },
      "source": [
        "df.columns = [\"Loja\", \"PDV\", \"Data_da_venda\", \"Hora_da_venda\"] \n",
        "df[\"Data_da_venda\"] = pd.to_datetime(df[\"Data_da_venda\"])"
      ],
      "execution_count": 61,
      "outputs": []
    },
    {
      "cell_type": "code",
      "metadata": {
        "id": "cn_GLRG4WzUE",
        "colab_type": "code",
        "colab": {
          "base_uri": "https://localhost:8080/",
          "height": 198
        },
        "outputId": "307c7ed0-1054-47d6-cb38-c83c6eb23803"
      },
      "source": [
        "df.head()"
      ],
      "execution_count": 62,
      "outputs": [
        {
          "output_type": "execute_result",
          "data": {
            "text/html": [
              "<div>\n",
              "<style scoped>\n",
              "    .dataframe tbody tr th:only-of-type {\n",
              "        vertical-align: middle;\n",
              "    }\n",
              "\n",
              "    .dataframe tbody tr th {\n",
              "        vertical-align: top;\n",
              "    }\n",
              "\n",
              "    .dataframe thead th {\n",
              "        text-align: right;\n",
              "    }\n",
              "</style>\n",
              "<table border=\"1\" class=\"dataframe\">\n",
              "  <thead>\n",
              "    <tr style=\"text-align: right;\">\n",
              "      <th></th>\n",
              "      <th>Loja</th>\n",
              "      <th>PDV</th>\n",
              "      <th>Data_da_venda</th>\n",
              "      <th>Hora_da_venda</th>\n",
              "    </tr>\n",
              "  </thead>\n",
              "  <tbody>\n",
              "    <tr>\n",
              "      <th>0</th>\n",
              "      <td>1041</td>\n",
              "      <td>303</td>\n",
              "      <td>2020-08-21</td>\n",
              "      <td>12:07:09</td>\n",
              "    </tr>\n",
              "    <tr>\n",
              "      <th>1</th>\n",
              "      <td>1041</td>\n",
              "      <td>303</td>\n",
              "      <td>2020-08-21</td>\n",
              "      <td>12:08:14</td>\n",
              "    </tr>\n",
              "    <tr>\n",
              "      <th>2</th>\n",
              "      <td>1041</td>\n",
              "      <td>303</td>\n",
              "      <td>2020-08-21</td>\n",
              "      <td>12:10:29</td>\n",
              "    </tr>\n",
              "    <tr>\n",
              "      <th>3</th>\n",
              "      <td>1041</td>\n",
              "      <td>303</td>\n",
              "      <td>2020-08-21</td>\n",
              "      <td>12:13:31</td>\n",
              "    </tr>\n",
              "    <tr>\n",
              "      <th>4</th>\n",
              "      <td>1041</td>\n",
              "      <td>303</td>\n",
              "      <td>2020-08-21</td>\n",
              "      <td>12:14:58</td>\n",
              "    </tr>\n",
              "  </tbody>\n",
              "</table>\n",
              "</div>"
            ],
            "text/plain": [
              "   Loja  PDV Data_da_venda Hora_da_venda\n",
              "0  1041  303    2020-08-21      12:07:09\n",
              "1  1041  303    2020-08-21      12:08:14\n",
              "2  1041  303    2020-08-21      12:10:29\n",
              "3  1041  303    2020-08-21      12:13:31\n",
              "4  1041  303    2020-08-21      12:14:58"
            ]
          },
          "metadata": {
            "tags": []
          },
          "execution_count": 62
        }
      ]
    },
    {
      "cell_type": "code",
      "metadata": {
        "id": "WRuTxAgMWxme",
        "colab_type": "code",
        "colab": {}
      },
      "source": [
        "df['Hora'] = pd.to_datetime(df['Hora_da_venda'], format= '%H:%M:%S').apply(lambda x: x.strftime('%H')).astype(int)\n",
        "df['Pessoas'] = np.ones((len(df))).astype(int)"
      ],
      "execution_count": 67,
      "outputs": []
    },
    {
      "cell_type": "code",
      "metadata": {
        "id": "Yd6UHmBbXKpd",
        "colab_type": "code",
        "colab": {
          "base_uri": "https://localhost:8080/",
          "height": 198
        },
        "outputId": "b8de720f-012c-4f2f-d7b8-4fc499f712a4"
      },
      "source": [
        "df.head()"
      ],
      "execution_count": 68,
      "outputs": [
        {
          "output_type": "execute_result",
          "data": {
            "text/html": [
              "<div>\n",
              "<style scoped>\n",
              "    .dataframe tbody tr th:only-of-type {\n",
              "        vertical-align: middle;\n",
              "    }\n",
              "\n",
              "    .dataframe tbody tr th {\n",
              "        vertical-align: top;\n",
              "    }\n",
              "\n",
              "    .dataframe thead th {\n",
              "        text-align: right;\n",
              "    }\n",
              "</style>\n",
              "<table border=\"1\" class=\"dataframe\">\n",
              "  <thead>\n",
              "    <tr style=\"text-align: right;\">\n",
              "      <th></th>\n",
              "      <th>Loja</th>\n",
              "      <th>PDV</th>\n",
              "      <th>Data_da_venda</th>\n",
              "      <th>Hora_da_venda</th>\n",
              "      <th>Hora</th>\n",
              "      <th>Pessoas</th>\n",
              "    </tr>\n",
              "  </thead>\n",
              "  <tbody>\n",
              "    <tr>\n",
              "      <th>0</th>\n",
              "      <td>1041</td>\n",
              "      <td>303</td>\n",
              "      <td>2020-08-21</td>\n",
              "      <td>12:07:09</td>\n",
              "      <td>12</td>\n",
              "      <td>1</td>\n",
              "    </tr>\n",
              "    <tr>\n",
              "      <th>1</th>\n",
              "      <td>1041</td>\n",
              "      <td>303</td>\n",
              "      <td>2020-08-21</td>\n",
              "      <td>12:08:14</td>\n",
              "      <td>12</td>\n",
              "      <td>1</td>\n",
              "    </tr>\n",
              "    <tr>\n",
              "      <th>2</th>\n",
              "      <td>1041</td>\n",
              "      <td>303</td>\n",
              "      <td>2020-08-21</td>\n",
              "      <td>12:10:29</td>\n",
              "      <td>12</td>\n",
              "      <td>1</td>\n",
              "    </tr>\n",
              "    <tr>\n",
              "      <th>3</th>\n",
              "      <td>1041</td>\n",
              "      <td>303</td>\n",
              "      <td>2020-08-21</td>\n",
              "      <td>12:13:31</td>\n",
              "      <td>12</td>\n",
              "      <td>1</td>\n",
              "    </tr>\n",
              "    <tr>\n",
              "      <th>4</th>\n",
              "      <td>1041</td>\n",
              "      <td>303</td>\n",
              "      <td>2020-08-21</td>\n",
              "      <td>12:14:58</td>\n",
              "      <td>12</td>\n",
              "      <td>1</td>\n",
              "    </tr>\n",
              "  </tbody>\n",
              "</table>\n",
              "</div>"
            ],
            "text/plain": [
              "   Loja  PDV Data_da_venda Hora_da_venda  Hora  Pessoas\n",
              "0  1041  303    2020-08-21      12:07:09    12        1\n",
              "1  1041  303    2020-08-21      12:08:14    12        1\n",
              "2  1041  303    2020-08-21      12:10:29    12        1\n",
              "3  1041  303    2020-08-21      12:13:31    12        1\n",
              "4  1041  303    2020-08-21      12:14:58    12        1"
            ]
          },
          "metadata": {
            "tags": []
          },
          "execution_count": 68
        }
      ]
    },
    {
      "cell_type": "code",
      "metadata": {
        "id": "Af1OTF4lq9_W",
        "colab_type": "code",
        "colab": {
          "base_uri": "https://localhost:8080/",
          "height": 254
        },
        "outputId": "18b535b5-4ea0-4513-bf55-b75c0bd4944e"
      },
      "source": [
        "df.info()"
      ],
      "execution_count": 69,
      "outputs": [
        {
          "output_type": "stream",
          "text": [
            "<class 'pandas.core.frame.DataFrame'>\n",
            "RangeIndex: 1525 entries, 0 to 1524\n",
            "Data columns (total 6 columns):\n",
            " #   Column         Non-Null Count  Dtype         \n",
            "---  ------         --------------  -----         \n",
            " 0   Loja           1525 non-null   int64         \n",
            " 1   PDV            1525 non-null   int64         \n",
            " 2   Data_da_venda  1525 non-null   datetime64[ns]\n",
            " 3   Hora_da_venda  1525 non-null   object        \n",
            " 4   Hora           1525 non-null   int64         \n",
            " 5   Pessoas        1525 non-null   int64         \n",
            "dtypes: datetime64[ns](1), int64(4), object(1)\n",
            "memory usage: 71.6+ KB\n"
          ],
          "name": "stdout"
        }
      ]
    },
    {
      "cell_type": "code",
      "metadata": {
        "id": "yA-2afvslAyT",
        "colab_type": "code",
        "colab": {
          "base_uri": "https://localhost:8080/",
          "height": 228
        },
        "outputId": "023168dc-dc0b-4f9e-ca89-1bb5bafd67f8"
      },
      "source": [
        "table = pd.pivot_table(df, values='Pessoas',\n",
        "                       columns=['Data_da_venda'],\n",
        "                       index = ['Hora'],\n",
        "                       aggfunc=np.sum,\n",
        "                       fill_value=0 )\n",
        "table.head()"
      ],
      "execution_count": 73,
      "outputs": [
        {
          "output_type": "execute_result",
          "data": {
            "text/html": [
              "<div>\n",
              "<style scoped>\n",
              "    .dataframe tbody tr th:only-of-type {\n",
              "        vertical-align: middle;\n",
              "    }\n",
              "\n",
              "    .dataframe tbody tr th {\n",
              "        vertical-align: top;\n",
              "    }\n",
              "\n",
              "    .dataframe thead th {\n",
              "        text-align: right;\n",
              "    }\n",
              "</style>\n",
              "<table border=\"1\" class=\"dataframe\">\n",
              "  <thead>\n",
              "    <tr style=\"text-align: right;\">\n",
              "      <th>Data_da_venda</th>\n",
              "      <th>2020-08-21</th>\n",
              "      <th>2020-08-22</th>\n",
              "      <th>2020-08-23</th>\n",
              "      <th>2020-08-24</th>\n",
              "      <th>2020-08-25</th>\n",
              "    </tr>\n",
              "    <tr>\n",
              "      <th>Hora</th>\n",
              "      <th></th>\n",
              "      <th></th>\n",
              "      <th></th>\n",
              "      <th></th>\n",
              "      <th></th>\n",
              "    </tr>\n",
              "  </thead>\n",
              "  <tbody>\n",
              "    <tr>\n",
              "      <th>11</th>\n",
              "      <td>1</td>\n",
              "      <td>0</td>\n",
              "      <td>0</td>\n",
              "      <td>0</td>\n",
              "      <td>1</td>\n",
              "    </tr>\n",
              "    <tr>\n",
              "      <th>12</th>\n",
              "      <td>27</td>\n",
              "      <td>29</td>\n",
              "      <td>18</td>\n",
              "      <td>28</td>\n",
              "      <td>28</td>\n",
              "    </tr>\n",
              "    <tr>\n",
              "      <th>13</th>\n",
              "      <td>43</td>\n",
              "      <td>39</td>\n",
              "      <td>39</td>\n",
              "      <td>29</td>\n",
              "      <td>36</td>\n",
              "    </tr>\n",
              "    <tr>\n",
              "      <th>14</th>\n",
              "      <td>30</td>\n",
              "      <td>43</td>\n",
              "      <td>50</td>\n",
              "      <td>31</td>\n",
              "      <td>30</td>\n",
              "    </tr>\n",
              "    <tr>\n",
              "      <th>15</th>\n",
              "      <td>30</td>\n",
              "      <td>49</td>\n",
              "      <td>62</td>\n",
              "      <td>42</td>\n",
              "      <td>29</td>\n",
              "    </tr>\n",
              "  </tbody>\n",
              "</table>\n",
              "</div>"
            ],
            "text/plain": [
              "Data_da_venda  2020-08-21  2020-08-22  2020-08-23  2020-08-24  2020-08-25\n",
              "Hora                                                                     \n",
              "11                      1           0           0           0           1\n",
              "12                     27          29          18          28          28\n",
              "13                     43          39          39          29          36\n",
              "14                     30          43          50          31          30\n",
              "15                     30          49          62          42          29"
            ]
          },
          "metadata": {
            "tags": []
          },
          "execution_count": 73
        }
      ]
    },
    {
      "cell_type": "code",
      "metadata": {
        "id": "OoRBfymIoATR",
        "colab_type": "code",
        "colab": {
          "base_uri": "https://localhost:8080/",
          "height": 288
        },
        "outputId": "7815dc7f-6a3a-4738-a327-799d0748d2ca"
      },
      "source": [
        "table.describe()"
      ],
      "execution_count": 74,
      "outputs": [
        {
          "output_type": "execute_result",
          "data": {
            "text/html": [
              "<div>\n",
              "<style scoped>\n",
              "    .dataframe tbody tr th:only-of-type {\n",
              "        vertical-align: middle;\n",
              "    }\n",
              "\n",
              "    .dataframe tbody tr th {\n",
              "        vertical-align: top;\n",
              "    }\n",
              "\n",
              "    .dataframe thead th {\n",
              "        text-align: right;\n",
              "    }\n",
              "</style>\n",
              "<table border=\"1\" class=\"dataframe\">\n",
              "  <thead>\n",
              "    <tr style=\"text-align: right;\">\n",
              "      <th>Data_da_venda</th>\n",
              "      <th>2020-08-21</th>\n",
              "      <th>2020-08-22</th>\n",
              "      <th>2020-08-23</th>\n",
              "      <th>2020-08-24</th>\n",
              "      <th>2020-08-25</th>\n",
              "    </tr>\n",
              "  </thead>\n",
              "  <tbody>\n",
              "    <tr>\n",
              "      <th>count</th>\n",
              "      <td>10.000000</td>\n",
              "      <td>10.000000</td>\n",
              "      <td>10.000000</td>\n",
              "      <td>10.000000</td>\n",
              "      <td>10.000000</td>\n",
              "    </tr>\n",
              "    <tr>\n",
              "      <th>mean</th>\n",
              "      <td>29.200000</td>\n",
              "      <td>33.200000</td>\n",
              "      <td>35.100000</td>\n",
              "      <td>28.000000</td>\n",
              "      <td>27.000000</td>\n",
              "    </tr>\n",
              "    <tr>\n",
              "      <th>std</th>\n",
              "      <td>15.802953</td>\n",
              "      <td>16.903649</td>\n",
              "      <td>21.768734</td>\n",
              "      <td>13.638182</td>\n",
              "      <td>13.540064</td>\n",
              "    </tr>\n",
              "    <tr>\n",
              "      <th>min</th>\n",
              "      <td>1.000000</td>\n",
              "      <td>0.000000</td>\n",
              "      <td>0.000000</td>\n",
              "      <td>0.000000</td>\n",
              "      <td>1.000000</td>\n",
              "    </tr>\n",
              "    <tr>\n",
              "      <th>25%</th>\n",
              "      <td>25.500000</td>\n",
              "      <td>29.000000</td>\n",
              "      <td>20.500000</td>\n",
              "      <td>28.250000</td>\n",
              "      <td>28.250000</td>\n",
              "    </tr>\n",
              "    <tr>\n",
              "      <th>50%</th>\n",
              "      <td>30.000000</td>\n",
              "      <td>41.000000</td>\n",
              "      <td>40.500000</td>\n",
              "      <td>31.000000</td>\n",
              "      <td>30.000000</td>\n",
              "    </tr>\n",
              "    <tr>\n",
              "      <th>75%</th>\n",
              "      <td>40.750000</td>\n",
              "      <td>44.750000</td>\n",
              "      <td>53.000000</td>\n",
              "      <td>36.000000</td>\n",
              "      <td>35.750000</td>\n",
              "    </tr>\n",
              "    <tr>\n",
              "      <th>max</th>\n",
              "      <td>51.000000</td>\n",
              "      <td>49.000000</td>\n",
              "      <td>62.000000</td>\n",
              "      <td>42.000000</td>\n",
              "      <td>41.000000</td>\n",
              "    </tr>\n",
              "  </tbody>\n",
              "</table>\n",
              "</div>"
            ],
            "text/plain": [
              "Data_da_venda  2020-08-21  2020-08-22  2020-08-23  2020-08-24  2020-08-25\n",
              "count           10.000000   10.000000   10.000000   10.000000   10.000000\n",
              "mean            29.200000   33.200000   35.100000   28.000000   27.000000\n",
              "std             15.802953   16.903649   21.768734   13.638182   13.540064\n",
              "min              1.000000    0.000000    0.000000    0.000000    1.000000\n",
              "25%             25.500000   29.000000   20.500000   28.250000   28.250000\n",
              "50%             30.000000   41.000000   40.500000   31.000000   30.000000\n",
              "75%             40.750000   44.750000   53.000000   36.000000   35.750000\n",
              "max             51.000000   49.000000   62.000000   42.000000   41.000000"
            ]
          },
          "metadata": {
            "tags": []
          },
          "execution_count": 74
        }
      ]
    },
    {
      "cell_type": "code",
      "metadata": {
        "id": "Seq7H3V-rPGa",
        "colab_type": "code",
        "colab": {
          "base_uri": "https://localhost:8080/",
          "height": 570
        },
        "outputId": "9e661fb4-f499-4cf1-ec31-bab6434906e6"
      },
      "source": [
        "table.plot.bar(subplots=True, layout=(2, 3), figsize = (12,9), legend=False)\n",
        "plt.show()"
      ],
      "execution_count": 85,
      "outputs": [
        {
          "output_type": "display_data",
          "data": {
            "image/png": "[encoded data removed]",
            "text/plain": [
              "<Figure size 864x648 with 6 Axes>"
            ]
          },
          "metadata": {
            "tags": [],
            "needs_background": "light"
          }
        }
      ]
    },
    {
      "cell_type": "code",
      "metadata": {
        "id": "4c2RVE4mZWjq",
        "colab_type": "code",
        "colab": {}
      },
      "source": [
        ""
      ],
      "execution_count": 22,
      "outputs": []
    }
  ]
}