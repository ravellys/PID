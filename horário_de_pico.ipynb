{
  "nbformat": 4,
  "nbformat_minor": 0,
  "metadata": {
    "colab": {
      "name": "horário de pico.ipynb",
      "provenance": [],
      "collapsed_sections": [],
      "include_colab_link": true
    },
    "kernelspec": {
      "name": "python3",
      "display_name": "Python 3"
    }
  },
  "cells": [
    {
      "cell_type": "markdown",
      "metadata": {
        "id": "view-in-github",
        "colab_type": "text"
      },
      "source": [
        "<a href=\"https://colab.research.google.com/github/ravellys/PID/blob/master/hor%C3%A1rio_de_pico.ipynb\" target=\"_parent\"><img src=\"https://colab.research.google.com/assets/colab-badge.svg\" alt=\"Open In Colab\"/></a>"
      ]
    },
    {
      "cell_type": "code",
      "metadata": {
        "id": "7pCy4Ywamis_",
        "colab_type": "code",
        "colab": {
          "base_uri": "https://localhost:8080/",
          "height": 55
        },
        "outputId": "74729e5f-182e-428b-fa13-1e1e4127bdf7"
      },
      "source": [
        "from google.colab import drive\n",
        "drive.mount('/content/drive')"
      ],
      "execution_count": 11,
      "outputs": [
        {
          "output_type": "stream",
          "text": [
            "Drive already mounted at /content/drive; to attempt to forcibly remount, call drive.mount(\"/content/drive\", force_remount=True).\n"
          ],
          "name": "stdout"
        }
      ]
    },
    {
      "cell_type": "code",
      "metadata": {
        "id": "t2AJ_pirmOiH",
        "colab_type": "code",
        "colab": {}
      },
      "source": [
        "import pandas as pd\n",
        "import numpy as np\n",
        "import matplotlib.pyplot as plt\n",
        "import datetime"
      ],
      "execution_count": 12,
      "outputs": []
    },
    {
      "cell_type": "code",
      "metadata": {
        "id": "X5RfJ-_5mfo0",
        "colab_type": "code",
        "colab": {}
      },
      "source": [
        "name = 'drive/My Drive/Aline/data/Relatório de Vendas - 2020-08-21 até 2020-08-25.csv'\n",
        "df = pd.read_csv(name, header = 0, sep=\";\")"
      ],
      "execution_count": 23,
      "outputs": []
    },
    {
      "cell_type": "code",
      "metadata": {
        "id": "QddYIK_KZn95",
        "colab_type": "code",
        "colab": {
          "base_uri": "https://localhost:8080/",
          "height": 217
        },
        "outputId": "2dc1fdeb-fd03-4d52-8d87-40a5b5e5de06"
      },
      "source": [
        "df.info()"
      ],
      "execution_count": 24,
      "outputs": [
        {
          "output_type": "stream",
          "text": [
            "<class 'pandas.core.frame.DataFrame'>\n",
            "RangeIndex: 1525 entries, 0 to 1524\n",
            "Data columns (total 4 columns):\n",
            " #   Column         Non-Null Count  Dtype \n",
            "---  ------         --------------  ----- \n",
            " 0   Loja           1525 non-null   int64 \n",
            " 1   PDV            1525 non-null   int64 \n",
            " 2   Data da venda  1525 non-null   object\n",
            " 3   Hora da venda  1525 non-null   object\n",
            "dtypes: int64(2), object(2)\n",
            "memory usage: 47.8+ KB\n"
          ],
          "name": "stdout"
        }
      ]
    },
    {
      "cell_type": "code",
      "metadata": {
        "id": "Lr5YugNDm0t3",
        "colab_type": "code",
        "colab": {
          "base_uri": "https://localhost:8080/",
          "height": 35
        },
        "outputId": "68cee6e0-7585-416d-d206-a7fd82c0483a"
      },
      "source": [
        "df.shape"
      ],
      "execution_count": 25,
      "outputs": [
        {
          "output_type": "execute_result",
          "data": {
            "text/plain": [
              "(1525, 4)"
            ]
          },
          "metadata": {
            "tags": []
          },
          "execution_count": 25
        }
      ]
    },
    {
      "cell_type": "code",
      "metadata": {
        "id": "gppacqGHm2Mp",
        "colab_type": "code",
        "colab": {}
      },
      "source": [
        "df.columns = [\"Loja\", \"PDV\", \"Data_da_venda\", \"Hora_da_venda\"] "
      ],
      "execution_count": 26,
      "outputs": []
    },
    {
      "cell_type": "code",
      "metadata": {
        "id": "cn_GLRG4WzUE",
        "colab_type": "code",
        "colab": {
          "base_uri": "https://localhost:8080/",
          "height": 198
        },
        "outputId": "cf8cf7f6-3fd2-4ba5-97bd-a84e771ca057"
      },
      "source": [
        "df.head()"
      ],
      "execution_count": 27,
      "outputs": [
        {
          "output_type": "execute_result",
          "data": {
            "text/html": [
              "<div>\n",
              "<style scoped>\n",
              "    .dataframe tbody tr th:only-of-type {\n",
              "        vertical-align: middle;\n",
              "    }\n",
              "\n",
              "    .dataframe tbody tr th {\n",
              "        vertical-align: top;\n",
              "    }\n",
              "\n",
              "    .dataframe thead th {\n",
              "        text-align: right;\n",
              "    }\n",
              "</style>\n",
              "<table border=\"1\" class=\"dataframe\">\n",
              "  <thead>\n",
              "    <tr style=\"text-align: right;\">\n",
              "      <th></th>\n",
              "      <th>Loja</th>\n",
              "      <th>PDV</th>\n",
              "      <th>Data_da_venda</th>\n",
              "      <th>Hora_da_venda</th>\n",
              "    </tr>\n",
              "  </thead>\n",
              "  <tbody>\n",
              "    <tr>\n",
              "      <th>0</th>\n",
              "      <td>1041</td>\n",
              "      <td>303</td>\n",
              "      <td>21/08/2020</td>\n",
              "      <td>12:07:09</td>\n",
              "    </tr>\n",
              "    <tr>\n",
              "      <th>1</th>\n",
              "      <td>1041</td>\n",
              "      <td>303</td>\n",
              "      <td>21/08/2020</td>\n",
              "      <td>12:08:14</td>\n",
              "    </tr>\n",
              "    <tr>\n",
              "      <th>2</th>\n",
              "      <td>1041</td>\n",
              "      <td>303</td>\n",
              "      <td>21/08/2020</td>\n",
              "      <td>12:10:29</td>\n",
              "    </tr>\n",
              "    <tr>\n",
              "      <th>3</th>\n",
              "      <td>1041</td>\n",
              "      <td>303</td>\n",
              "      <td>21/08/2020</td>\n",
              "      <td>12:13:31</td>\n",
              "    </tr>\n",
              "    <tr>\n",
              "      <th>4</th>\n",
              "      <td>1041</td>\n",
              "      <td>303</td>\n",
              "      <td>21/08/2020</td>\n",
              "      <td>12:14:58</td>\n",
              "    </tr>\n",
              "  </tbody>\n",
              "</table>\n",
              "</div>"
            ],
            "text/plain": [
              "   Loja  PDV Data_da_venda Hora_da_venda\n",
              "0  1041  303    21/08/2020      12:07:09\n",
              "1  1041  303    21/08/2020      12:08:14\n",
              "2  1041  303    21/08/2020      12:10:29\n",
              "3  1041  303    21/08/2020      12:13:31\n",
              "4  1041  303    21/08/2020      12:14:58"
            ]
          },
          "metadata": {
            "tags": []
          },
          "execution_count": 27
        }
      ]
    },
    {
      "cell_type": "code",
      "metadata": {
        "id": "WRuTxAgMWxme",
        "colab_type": "code",
        "colab": {}
      },
      "source": [
        "df['Hora'] = pd.to_datetime(df['Hora_da_venda'], format= '%H:%M:%S').apply(lambda x: x.strftime('%H')).astype(int)"
      ],
      "execution_count": 28,
      "outputs": []
    },
    {
      "cell_type": "code",
      "metadata": {
        "id": "Yd6UHmBbXKpd",
        "colab_type": "code",
        "colab": {
          "base_uri": "https://localhost:8080/",
          "height": 198
        },
        "outputId": "9b4cc507-6d4a-42de-8c02-acdec3139386"
      },
      "source": [
        "df.head()"
      ],
      "execution_count": 29,
      "outputs": [
        {
          "output_type": "execute_result",
          "data": {
            "text/html": [
              "<div>\n",
              "<style scoped>\n",
              "    .dataframe tbody tr th:only-of-type {\n",
              "        vertical-align: middle;\n",
              "    }\n",
              "\n",
              "    .dataframe tbody tr th {\n",
              "        vertical-align: top;\n",
              "    }\n",
              "\n",
              "    .dataframe thead th {\n",
              "        text-align: right;\n",
              "    }\n",
              "</style>\n",
              "<table border=\"1\" class=\"dataframe\">\n",
              "  <thead>\n",
              "    <tr style=\"text-align: right;\">\n",
              "      <th></th>\n",
              "      <th>Loja</th>\n",
              "      <th>PDV</th>\n",
              "      <th>Data_da_venda</th>\n",
              "      <th>Hora_da_venda</th>\n",
              "      <th>Hora</th>\n",
              "    </tr>\n",
              "  </thead>\n",
              "  <tbody>\n",
              "    <tr>\n",
              "      <th>0</th>\n",
              "      <td>1041</td>\n",
              "      <td>303</td>\n",
              "      <td>21/08/2020</td>\n",
              "      <td>12:07:09</td>\n",
              "      <td>12</td>\n",
              "    </tr>\n",
              "    <tr>\n",
              "      <th>1</th>\n",
              "      <td>1041</td>\n",
              "      <td>303</td>\n",
              "      <td>21/08/2020</td>\n",
              "      <td>12:08:14</td>\n",
              "      <td>12</td>\n",
              "    </tr>\n",
              "    <tr>\n",
              "      <th>2</th>\n",
              "      <td>1041</td>\n",
              "      <td>303</td>\n",
              "      <td>21/08/2020</td>\n",
              "      <td>12:10:29</td>\n",
              "      <td>12</td>\n",
              "    </tr>\n",
              "    <tr>\n",
              "      <th>3</th>\n",
              "      <td>1041</td>\n",
              "      <td>303</td>\n",
              "      <td>21/08/2020</td>\n",
              "      <td>12:13:31</td>\n",
              "      <td>12</td>\n",
              "    </tr>\n",
              "    <tr>\n",
              "      <th>4</th>\n",
              "      <td>1041</td>\n",
              "      <td>303</td>\n",
              "      <td>21/08/2020</td>\n",
              "      <td>12:14:58</td>\n",
              "      <td>12</td>\n",
              "    </tr>\n",
              "  </tbody>\n",
              "</table>\n",
              "</div>"
            ],
            "text/plain": [
              "   Loja  PDV Data_da_venda Hora_da_venda  Hora\n",
              "0  1041  303    21/08/2020      12:07:09    12\n",
              "1  1041  303    21/08/2020      12:08:14    12\n",
              "2  1041  303    21/08/2020      12:10:29    12\n",
              "3  1041  303    21/08/2020      12:13:31    12\n",
              "4  1041  303    21/08/2020      12:14:58    12"
            ]
          },
          "metadata": {
            "tags": []
          },
          "execution_count": 29
        }
      ]
    },
    {
      "cell_type": "code",
      "metadata": {
        "id": "Af1OTF4lq9_W",
        "colab_type": "code",
        "colab": {
          "base_uri": "https://localhost:8080/",
          "height": 235
        },
        "outputId": "eb27e32d-6eca-41e5-f288-461afd0d080f"
      },
      "source": [
        "df.info()"
      ],
      "execution_count": 30,
      "outputs": [
        {
          "output_type": "stream",
          "text": [
            "<class 'pandas.core.frame.DataFrame'>\n",
            "RangeIndex: 1525 entries, 0 to 1524\n",
            "Data columns (total 5 columns):\n",
            " #   Column         Non-Null Count  Dtype \n",
            "---  ------         --------------  ----- \n",
            " 0   Loja           1525 non-null   int64 \n",
            " 1   PDV            1525 non-null   int64 \n",
            " 2   Data_da_venda  1525 non-null   object\n",
            " 3   Hora_da_venda  1525 non-null   object\n",
            " 4   Hora           1525 non-null   int64 \n",
            "dtypes: int64(3), object(2)\n",
            "memory usage: 59.7+ KB\n"
          ],
          "name": "stdout"
        }
      ]
    },
    {
      "cell_type": "code",
      "metadata": {
        "id": "OoRBfymIoATR",
        "colab_type": "code",
        "colab": {
          "base_uri": "https://localhost:8080/",
          "height": 288
        },
        "outputId": "0cf6fe78-be2f-4099-92d7-6d301d023112"
      },
      "source": [
        "df.describe()"
      ],
      "execution_count": 31,
      "outputs": [
        {
          "output_type": "execute_result",
          "data": {
            "text/html": [
              "<div>\n",
              "<style scoped>\n",
              "    .dataframe tbody tr th:only-of-type {\n",
              "        vertical-align: middle;\n",
              "    }\n",
              "\n",
              "    .dataframe tbody tr th {\n",
              "        vertical-align: top;\n",
              "    }\n",
              "\n",
              "    .dataframe thead th {\n",
              "        text-align: right;\n",
              "    }\n",
              "</style>\n",
              "<table border=\"1\" class=\"dataframe\">\n",
              "  <thead>\n",
              "    <tr style=\"text-align: right;\">\n",
              "      <th></th>\n",
              "      <th>Loja</th>\n",
              "      <th>PDV</th>\n",
              "      <th>Hora</th>\n",
              "    </tr>\n",
              "  </thead>\n",
              "  <tbody>\n",
              "    <tr>\n",
              "      <th>count</th>\n",
              "      <td>1525.0</td>\n",
              "      <td>1525.000000</td>\n",
              "      <td>1525.000000</td>\n",
              "    </tr>\n",
              "    <tr>\n",
              "      <th>mean</th>\n",
              "      <td>1041.0</td>\n",
              "      <td>305.496393</td>\n",
              "      <td>15.739016</td>\n",
              "    </tr>\n",
              "    <tr>\n",
              "      <th>std</th>\n",
              "      <td>0.0</td>\n",
              "      <td>2.254949</td>\n",
              "      <td>2.257407</td>\n",
              "    </tr>\n",
              "    <tr>\n",
              "      <th>min</th>\n",
              "      <td>1041.0</td>\n",
              "      <td>303.000000</td>\n",
              "      <td>11.000000</td>\n",
              "    </tr>\n",
              "    <tr>\n",
              "      <th>25%</th>\n",
              "      <td>1041.0</td>\n",
              "      <td>303.000000</td>\n",
              "      <td>14.000000</td>\n",
              "    </tr>\n",
              "    <tr>\n",
              "      <th>50%</th>\n",
              "      <td>1041.0</td>\n",
              "      <td>306.000000</td>\n",
              "      <td>16.000000</td>\n",
              "    </tr>\n",
              "    <tr>\n",
              "      <th>75%</th>\n",
              "      <td>1041.0</td>\n",
              "      <td>307.000000</td>\n",
              "      <td>18.000000</td>\n",
              "    </tr>\n",
              "    <tr>\n",
              "      <th>max</th>\n",
              "      <td>1041.0</td>\n",
              "      <td>313.000000</td>\n",
              "      <td>20.000000</td>\n",
              "    </tr>\n",
              "  </tbody>\n",
              "</table>\n",
              "</div>"
            ],
            "text/plain": [
              "         Loja          PDV         Hora\n",
              "count  1525.0  1525.000000  1525.000000\n",
              "mean   1041.0   305.496393    15.739016\n",
              "std       0.0     2.254949     2.257407\n",
              "min    1041.0   303.000000    11.000000\n",
              "25%    1041.0   303.000000    14.000000\n",
              "50%    1041.0   306.000000    16.000000\n",
              "75%    1041.0   307.000000    18.000000\n",
              "max    1041.0   313.000000    20.000000"
            ]
          },
          "metadata": {
            "tags": []
          },
          "execution_count": 31
        }
      ]
    },
    {
      "cell_type": "code",
      "metadata": {
        "id": "Seq7H3V-rPGa",
        "colab_type": "code",
        "colab": {
          "base_uri": "https://localhost:8080/",
          "height": 265
        },
        "outputId": "cb6be404-b5c3-41c5-864c-af1d51e7a9d7"
      },
      "source": [
        "df['Hora'].hist(bins = df['Hora'].max() - df['Hora'].min())\n",
        "plt.show()"
      ],
      "execution_count": 32,
      "outputs": [
        {
          "output_type": "display_data",
          "data": {
            "image/png": "[encoded data removed]",
            "text/plain": [
              "<Figure size 432x288 with 1 Axes>"
            ]
          },
          "metadata": {
            "tags": [],
            "needs_background": "light"
          }
        }
      ]
    },
    {
      "cell_type": "code",
      "metadata": {
        "id": "4c2RVE4mZWjq",
        "colab_type": "code",
        "colab": {}
      },
      "source": [
        ""
      ],
      "execution_count": 22,
      "outputs": []
    }
  ]
}